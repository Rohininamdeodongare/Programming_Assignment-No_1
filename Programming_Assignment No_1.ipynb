{
 "cells": [
  {
   "cell_type": "code",
   "execution_count": 1,
   "id": "df6f2350",
   "metadata": {},
   "outputs": [],
   "source": [
    "        Programming_Assignment No_1"
   ]
  },
  {
   "cell_type": "code",
   "execution_count": 2,
   "id": "e74c6e89",
   "metadata": {},
   "outputs": [
    {
     "name": "stdout",
     "output_type": "stream",
     "text": [
      "Hellow Python\n"
     ]
    }
   ],
   "source": [
    "Q.1.Write a Python program to print 'Hello Python'?\n",
    "print('Hellow Python')"
   ]
  },
  {
   "cell_type": "code",
   "execution_count": 3,
   "id": "f43a4eb6",
   "metadata": {},
   "outputs": [
    {
     "name": "stdout",
     "output_type": "stream",
     "text": [
      "Select a Arithmetic Operation:         \n",
      "1.Addition(+)        \n",
      "2.Division(-)        \n",
      "2.Multiplication(*)        \n",
      "4.Division(/)        \n",
      "3.Stop(0)\n",
      "\n",
      "Enter a arithmetic operation -> 32\n",
      "Please enter a valid operator\n",
      "Enter a arithmetic operation -> 10\n",
      "Please enter a valid operator\n",
      "Enter a arithmetic operation -> +\n",
      "\n",
      "Enter 1st Number: 10\n",
      "Enter 2nd Number: 20\n",
      "10+20=30\n",
      "\n",
      "Enter a arithmetic operation -> -\n",
      "\n",
      "Enter 1st Number: 50\n",
      "Enter 2nd Number: 45\n",
      "50-45=5\n",
      "\n",
      "Enter a arithmetic operation -> *\n",
      "\n",
      "Enter 1st Number: 67\n",
      "Enter 2nd Number: 67\n",
      "67*67=4489\n",
      "\n",
      "Enter a arithmetic operation -> /\n",
      "\n",
      "Enter 1st Number: 90\n",
      "Enter 2nd Number: 34\n",
      "90/34=2.6470588235294117\n",
      "\n",
      "Enter a arithmetic operation -> 0\n",
      "Program Stopped successfully\n"
     ]
    }
   ],
   "source": [
    "Q.2.Write a Python program to do arithmetic operations addition and division ?\n",
    "\n",
    "import operator\n",
    "\n",
    "ops = { \"+\": operator.add, \"-\": operator.sub, \"*\":operator.mul, \"/\":operator.truediv } \n",
    "\n",
    "print('Select a Arithmetic Operation: \\\n",
    "        \\n1.Addition(+)\\\n",
    "        \\n2.Division(-)\\\n",
    "        \\n2.Multiplication(*)\\\n",
    "        \\n4.Division(/)\\\n",
    "        \\n3.Stop(0)\\n')\n",
    "   \n",
    "\n",
    "while True:\n",
    "    operator = input('Enter a arithmetic operation -> ')\n",
    "    if operator == '0':\n",
    "        print(\"Program Stopped successfully\")\n",
    "        break\n",
    "    elif operator not in ['+','-','*','/']:\n",
    "        print(\"Please enter a valid operator\")\n",
    "    else:\n",
    "        num_1 = int(input('\\nEnter 1st Number: '))\n",
    "        num_2 = int(input('Enter 2nd Number: '))\n",
    "        print('{}{}{}={}\\n'.format(num_1, operator, num_2, ops[operator](num_1,num_2)))"
   ]
  },
  {
   "cell_type": "code",
   "execution_count": 5,
   "id": "f2527f88",
   "metadata": {},
   "outputs": [
    {
     "name": "stdout",
     "output_type": "stream",
     "text": [
      "Enter height of triangle:567\n",
      "Enter base of triangle:56\n",
      "\n",
      "Area of triangle -> 15876.0\n"
     ]
    }
   ],
   "source": [
    "Q.3.Write a Python program to find the area of a triangle ?\n",
    "Answer:-\n",
    "height = int(input('Enter height of triangle:'))\n",
    "base = int(input('Enter base of triangle:'))\n",
    "\n",
    "def areaOfTraingle(height,base):\n",
    "    print('\\nArea of triangle ->', 0.5*height*base)\n",
    "\n",
    "    \n",
    "areaOfTraingle(height,base)"
   ]
  },
  {
   "cell_type": "code",
   "execution_count": 6,
   "id": "6d0523f0",
   "metadata": {},
   "outputs": [
    {
     "name": "stdout",
     "output_type": "stream",
     "text": [
      "Enter First Number:456\n",
      "Enter Second Number:543\n",
      "before swapping ->  456 543\n",
      "After swapping -> 543 456\n"
     ]
    }
   ],
   "source": [
    "Q.4.Write a Python program to swap two variables ?\n",
    "Answer:-\n",
    "num_1 = int(input(\"Enter First Number:\"))\n",
    "num_2 = int(input(\"Enter Second Number:\"))\n",
    "\n",
    "def swapNumbers(a,b):\n",
    "    temp = a\n",
    "    a = b\n",
    "    b = temp\n",
    "    return a,b\n",
    "\n",
    "print(\"before swapping -> \",num_1, num_2)\n",
    "num_1, num_2 = swapNumbers(num_1, num_2)\n",
    "print(\"After swapping ->\" , num_1, num_2)\n"
   ]
  },
  {
   "cell_type": "code",
   "execution_count": 8,
   "id": "593a122c",
   "metadata": {},
   "outputs": [
    {
     "name": "stdout",
     "output_type": "stream",
     "text": [
      "Random Number -> 903797\n",
      "Random Number -> 199\n"
     ]
    }
   ],
   "source": [
    "Q.5.Write a Python program to generate a random number ?\n",
    "Answer:-\n",
    "from random import randint\n",
    "\n",
    "def generateRandomNumber(start = 0, end = 1000000):\n",
    "    print('Random Number ->', randint(start, end))\n",
    "    \n",
    "#Generating random numbers without arguments\n",
    "generateRandomNumber()\n",
    "\n",
    "#Generating random numbers with arguments\n",
    "generateRandomNumber(0,290)\n"
   ]
  },
  {
   "cell_type": "code",
   "execution_count": null,
   "id": "abcd9cee",
   "metadata": {},
   "outputs": [],
   "source": []
  }
 ],
 "metadata": {
  "kernelspec": {
   "display_name": "Python 3 (ipykernel)",
   "language": "python",
   "name": "python3"
  },
  "language_info": {
   "codemirror_mode": {
    "name": "ipython",
    "version": 3
   },
   "file_extension": ".py",
   "mimetype": "text/x-python",
   "name": "python",
   "nbconvert_exporter": "python",
   "pygments_lexer": "ipython3",
   "version": "3.9.12"
  }
 },
 "nbformat": 4,
 "nbformat_minor": 5
}
